{
 "cells": [
  {
   "cell_type": "code",
   "execution_count": null,
   "id": "a917b519",
   "metadata": {},
   "outputs": [],
   "source": [
    "### PROBLEM STATEMENT\n",
    "\n",
    "There are various factors that affect customer’s policy purchase decisions in addition to the vast number of channels - digital or otherwise. In this hackathon we want you to:\n",
    "\n",
    "1.Create segments of customers based on their persona. The segments should be defined clearly and should not be too similar to each other,\n",
    "\n",
    "2.Evaluate weightage of product features for each of the customer segments created,\n",
    "\n",
    "3.Create a recommender systems (statistical based model or algorithm) to find the attributes influencing the customer’s preference for product features\n",
    "\n",
    "4.Identify effect of market factors affecting these segments\n",
    "The model needs to be specific to Indian life insurance market, hence, if you are using any data from public sources, ensure that it is relevant to India market."
   ]
  },
  {
   "cell_type": "markdown",
   "id": "678b54f1",
   "metadata": {},
   "source": [
    "### About the data set (Insurance data)\n",
    "\n",
    "The dataset contains information about employees. The aim is to find which employees might undergo attrition.<br> Attribute information: \n",
    "\n",
    "**AGE:** Age of customer when policy is bought\n",
    "\n",
    "**EDUCATION:** Education of customer:higher_secondary, graduate_plus\n",
    "\n",
    "**OCC:** Occupation of customer (professional are Doctors, CA), business is Self-employed: business, salaried_govt, professional Number of miles of daily commute for the employee\n",
    "\n",
    "**PINCODE:** Customer residence pincode\n",
    "\n",
    "**PROD_CATEGORY:** Product Type (ulip - Market linked insurance policy, trad - non-market linked policy, term - term product)\n",
    "\n",
    "**INCOME_SEGMENT** Customer Income segment(1 to 10; 1 - lower income segment, 10 - higher income segment; -99 - Missing)\n",
    "\n",
    "**PROSPERITY_INDEX_BAND** Prosperous location( Low - Low prosperous location; Very High - High prosperous location)\n",
    "\n",
    "**QUALITY_SCORE_BANDC:** Customer Quality (1 to 6; 1 - lowest quality, 6 - highest quality)\n",
    "\n",
    "**ISSUANCE_MONTH** Policy issuance month date(01-04-2021, 30-06-2021)\n",
    "\n",
    "\n",
    "NEW DATAFRAME CREATED WITH MARKET ATTRIBUTES:\n",
    "\n",
    "**NIFTY50_Stock_Price:**\n",
    "\n",
    "**BFS_STOCK:** \n",
    "\n",
    "**Date:**"
   ]
  },
  {
   "cell_type": "code",
   "execution_count": 3,
   "id": "8a258b10",
   "metadata": {},
   "outputs": [],
   "source": [
    "# import 'Pandas' \n",
    "import pandas as pd \n",
    "\n",
    "# import 'Numpy' \n",
    "import numpy as np\n",
    "\n",
    "# import subpackage of Matplotlib\n",
    "import matplotlib.pyplot as plt\n",
    "from matplotlib.colors import ListedColormap\n",
    "\n",
    "# import 'Seaborn' \n",
    "import seaborn as sns\n",
    "\n",
    "# to suppress warnings \n",
    "from warnings import filterwarnings\n",
    "filterwarnings('ignore')\n",
    "\n",
    "# display all columns of the dataframe\n",
    "pd.options.display.max_columns = None\n",
    "\n",
    "# display all rows of the dataframe\n",
    "pd.options.display.max_rows = None\n",
    " \n",
    "# to display the float values upto 6 decimal places     \n",
    "pd.options.display.float_format = '{:.6f}'.format\n",
    "\n",
    "# import train-test split \n",
    "from sklearn.model_selection import train_test_split\n",
    "\n",
    "# import StandardScaler to perform scaling\n",
    "from sklearn.preprocessing import StandardScaler \n",
    "\n",
    "# resample the dataset\n",
    "from sklearn.utils import resample\n",
    "from sklearn.utils import shuffle\n",
    "\n",
    "# import various functions from sklearn \n",
    "from sklearn import metrics\n",
    "from sklearn.metrics import classification_report\n",
    "from sklearn.ensemble import AdaBoostClassifier\n",
    "from sklearn.ensemble import GradientBoostingClassifier\n",
    "from sklearn.model_selection import GridSearchCV\n",
    "from sklearn.metrics import accuracy_score\n",
    "from sklearn.metrics import roc_curve\n",
    "from sklearn.metrics import roc_auc_score\n",
    "from sklearn.metrics import confusion_matrix\n",
    "from sklearn.model_selection import GridSearchCV\n",
    "from sklearn.model_selection import cross_val_score\n",
    "from sklearn.tree import DecisionTreeClassifier\n",
    "from sklearn.ensemble import RandomForestClassifier\n",
    "from sklearn.ensemble import StackingClassifier\n",
    "\n",
    "\n",
    "# import the XGBoost function for classification\n",
    "from xgboost import XGBClassifier\n",
    "\n",
    "import random\n",
    "\n",
    "plt.rcParams[\"figure.figsize\"] = (15,7)"
   ]
  },
  {
   "cell_type": "code",
   "execution_count": 4,
   "id": "978c3612",
   "metadata": {},
   "outputs": [],
   "source": [
    "df=pd.read_csv('train.csv')"
   ]
  },
  {
   "cell_type": "code",
   "execution_count": 5,
   "id": "574738b4",
   "metadata": {},
   "outputs": [
    {
     "data": {
      "text/html": [
       "<div>\n",
       "<style scoped>\n",
       "    .dataframe tbody tr th:only-of-type {\n",
       "        vertical-align: middle;\n",
       "    }\n",
       "\n",
       "    .dataframe tbody tr th {\n",
       "        vertical-align: top;\n",
       "    }\n",
       "\n",
       "    .dataframe thead th {\n",
       "        text-align: right;\n",
       "    }\n",
       "</style>\n",
       "<table border=\"1\" class=\"dataframe\">\n",
       "  <thead>\n",
       "    <tr style=\"text-align: right;\">\n",
       "      <th></th>\n",
       "      <th>ID</th>\n",
       "      <th>AGE</th>\n",
       "      <th>EDUCATION</th>\n",
       "      <th>OCC</th>\n",
       "      <th>PINCODE</th>\n",
       "      <th>PROD_CATEGORY</th>\n",
       "      <th>INCOME_SEGMENT</th>\n",
       "      <th>PROSPERITY_INDEX_BAND</th>\n",
       "      <th>QUALITY_SCORE_BAND</th>\n",
       "      <th>ISSUANCE_MONTH</th>\n",
       "    </tr>\n",
       "  </thead>\n",
       "  <tbody>\n",
       "    <tr>\n",
       "      <th>0</th>\n",
       "      <td>9354</td>\n",
       "      <td>27.000000</td>\n",
       "      <td>masters_plus</td>\n",
       "      <td>salaried_pvt</td>\n",
       "      <td>495001.000000</td>\n",
       "      <td>trad</td>\n",
       "      <td>5</td>\n",
       "      <td>High</td>\n",
       "      <td>6</td>\n",
       "      <td>Mar-22</td>\n",
       "    </tr>\n",
       "    <tr>\n",
       "      <th>1</th>\n",
       "      <td>7823</td>\n",
       "      <td>58.000000</td>\n",
       "      <td>graduate_plus</td>\n",
       "      <td>salaried_govt</td>\n",
       "      <td>272001.000000</td>\n",
       "      <td>ulip</td>\n",
       "      <td>4</td>\n",
       "      <td>Medium</td>\n",
       "      <td>5</td>\n",
       "      <td>Dec-21</td>\n",
       "    </tr>\n",
       "    <tr>\n",
       "      <th>2</th>\n",
       "      <td>6170</td>\n",
       "      <td>52.000000</td>\n",
       "      <td>masters_plus</td>\n",
       "      <td>salaried_govt</td>\n",
       "      <td>721101.000000</td>\n",
       "      <td>trad</td>\n",
       "      <td>5</td>\n",
       "      <td>High</td>\n",
       "      <td>5</td>\n",
       "      <td>Aug-21</td>\n",
       "    </tr>\n",
       "    <tr>\n",
       "      <th>3</th>\n",
       "      <td>9199</td>\n",
       "      <td>52.000000</td>\n",
       "      <td>higher_secondary</td>\n",
       "      <td>business</td>\n",
       "      <td>712612.000000</td>\n",
       "      <td>trad</td>\n",
       "      <td>3</td>\n",
       "      <td>Medium</td>\n",
       "      <td>2</td>\n",
       "      <td>Mar-22</td>\n",
       "    </tr>\n",
       "    <tr>\n",
       "      <th>4</th>\n",
       "      <td>9981</td>\n",
       "      <td>34.000000</td>\n",
       "      <td>graduate_plus</td>\n",
       "      <td>salaried_pvt</td>\n",
       "      <td>110085.000000</td>\n",
       "      <td>ulip</td>\n",
       "      <td>6</td>\n",
       "      <td>Very_high</td>\n",
       "      <td>6</td>\n",
       "      <td>Mar-22</td>\n",
       "    </tr>\n",
       "  </tbody>\n",
       "</table>\n",
       "</div>"
      ],
      "text/plain": [
       "     ID       AGE         EDUCATION            OCC       PINCODE  \\\n",
       "0  9354 27.000000      masters_plus   salaried_pvt 495001.000000   \n",
       "1  7823 58.000000     graduate_plus  salaried_govt 272001.000000   \n",
       "2  6170 52.000000      masters_plus  salaried_govt 721101.000000   \n",
       "3  9199 52.000000  higher_secondary       business 712612.000000   \n",
       "4  9981 34.000000     graduate_plus   salaried_pvt 110085.000000   \n",
       "\n",
       "  PROD_CATEGORY  INCOME_SEGMENT PROSPERITY_INDEX_BAND  QUALITY_SCORE_BAND  \\\n",
       "0          trad               5                  High                   6   \n",
       "1          ulip               4                Medium                   5   \n",
       "2          trad               5                  High                   5   \n",
       "3          trad               3                Medium                   2   \n",
       "4          ulip               6             Very_high                   6   \n",
       "\n",
       "  ISSUANCE_MONTH  \n",
       "0         Mar-22  \n",
       "1         Dec-21  \n",
       "2         Aug-21  \n",
       "3         Mar-22  \n",
       "4         Mar-22  "
      ]
     },
     "execution_count": 5,
     "metadata": {},
     "output_type": "execute_result"
    }
   ],
   "source": [
    "df.head()"
   ]
  },
  {
   "cell_type": "code",
   "execution_count": 6,
   "id": "610a461f",
   "metadata": {},
   "outputs": [
    {
     "name": "stdout",
     "output_type": "stream",
     "text": [
      "<class 'pandas.core.frame.DataFrame'>\n",
      "RangeIndex: 4500 entries, 0 to 4499\n",
      "Data columns (total 10 columns):\n",
      " #   Column                 Non-Null Count  Dtype  \n",
      "---  ------                 --------------  -----  \n",
      " 0   ID                     4500 non-null   int64  \n",
      " 1   AGE                    4482 non-null   float64\n",
      " 2   EDUCATION              4500 non-null   object \n",
      " 3   OCC                    4500 non-null   object \n",
      " 4   PINCODE                4498 non-null   float64\n",
      " 5   PROD_CATEGORY          4500 non-null   object \n",
      " 6   INCOME_SEGMENT         4500 non-null   int64  \n",
      " 7   PROSPERITY_INDEX_BAND  4500 non-null   object \n",
      " 8   QUALITY_SCORE_BAND     4500 non-null   int64  \n",
      " 9   ISSUANCE_MONTH         4500 non-null   object \n",
      "dtypes: float64(2), int64(3), object(5)\n",
      "memory usage: 351.7+ KB\n"
     ]
    }
   ],
   "source": [
    "df.info()"
   ]
  },
  {
   "cell_type": "code",
   "execution_count": 7,
   "id": "61dd74eb",
   "metadata": {},
   "outputs": [
    {
     "data": {
      "text/plain": [
       "Index(['ID', 'AGE', 'EDUCATION', 'OCC', 'PINCODE', 'PROD_CATEGORY',\n",
       "       'INCOME_SEGMENT', 'PROSPERITY_INDEX_BAND', 'QUALITY_SCORE_BAND',\n",
       "       'ISSUANCE_MONTH'],\n",
       "      dtype='object')"
      ]
     },
     "execution_count": 7,
     "metadata": {},
     "output_type": "execute_result"
    }
   ],
   "source": [
    "df.columns"
   ]
  },
  {
   "cell_type": "code",
   "execution_count": 9,
   "id": "e9b8a58d",
   "metadata": {},
   "outputs": [],
   "source": [
    "#data type conversion\n",
    "df[['ID','INCOME_SEGMENT','QUALITY_SCORE_BAND','PINCODE']]=df[['ID','INCOME_SEGMENT','QUALITY_SCORE_BAND','PINCODE']].astype('object')"
   ]
  },
  {
   "cell_type": "code",
   "execution_count": 11,
   "id": "d67e8d07",
   "metadata": {},
   "outputs": [],
   "source": [
    "#df['AGE']=df['AGE'].astype('int')"
   ]
  },
  {
   "cell_type": "code",
   "execution_count": 12,
   "id": "088cdd5b",
   "metadata": {},
   "outputs": [
    {
     "data": {
      "text/plain": [
       "ID                        0\n",
       "AGE                      18\n",
       "EDUCATION                 0\n",
       "OCC                       0\n",
       "PINCODE                   2\n",
       "PROD_CATEGORY             0\n",
       "INCOME_SEGMENT            0\n",
       "PROSPERITY_INDEX_BAND     0\n",
       "QUALITY_SCORE_BAND        0\n",
       "ISSUANCE_MONTH            0\n",
       "dtype: int64"
      ]
     },
     "execution_count": 12,
     "metadata": {},
     "output_type": "execute_result"
    }
   ],
   "source": [
    "df.isnull().sum()"
   ]
  },
  {
   "cell_type": "code",
   "execution_count": 13,
   "id": "247644c4",
   "metadata": {},
   "outputs": [
    {
     "data": {
      "text/plain": [
       "ID                      0.000000\n",
       "AGE                     0.400000\n",
       "EDUCATION               0.000000\n",
       "OCC                     0.000000\n",
       "PINCODE                 0.044444\n",
       "PROD_CATEGORY           0.000000\n",
       "INCOME_SEGMENT          0.000000\n",
       "PROSPERITY_INDEX_BAND   0.000000\n",
       "QUALITY_SCORE_BAND      0.000000\n",
       "ISSUANCE_MONTH          0.000000\n",
       "dtype: float64"
      ]
     },
     "execution_count": 13,
     "metadata": {},
     "output_type": "execute_result"
    }
   ],
   "source": [
    "(df.isnull().sum()/len(df))*100"
   ]
  },
  {
   "cell_type": "code",
   "execution_count": 14,
   "id": "cf980fb3",
   "metadata": {},
   "outputs": [
    {
     "data": {
      "text/html": [
       "<div>\n",
       "<style scoped>\n",
       "    .dataframe tbody tr th:only-of-type {\n",
       "        vertical-align: middle;\n",
       "    }\n",
       "\n",
       "    .dataframe tbody tr th {\n",
       "        vertical-align: top;\n",
       "    }\n",
       "\n",
       "    .dataframe thead th {\n",
       "        text-align: right;\n",
       "    }\n",
       "</style>\n",
       "<table border=\"1\" class=\"dataframe\">\n",
       "  <thead>\n",
       "    <tr style=\"text-align: right;\">\n",
       "      <th></th>\n",
       "      <th>AGE</th>\n",
       "    </tr>\n",
       "  </thead>\n",
       "  <tbody>\n",
       "    <tr>\n",
       "      <th>count</th>\n",
       "      <td>4482.000000</td>\n",
       "    </tr>\n",
       "    <tr>\n",
       "      <th>mean</th>\n",
       "      <td>39.096162</td>\n",
       "    </tr>\n",
       "    <tr>\n",
       "      <th>std</th>\n",
       "      <td>11.807838</td>\n",
       "    </tr>\n",
       "    <tr>\n",
       "      <th>min</th>\n",
       "      <td>18.000000</td>\n",
       "    </tr>\n",
       "    <tr>\n",
       "      <th>25%</th>\n",
       "      <td>30.000000</td>\n",
       "    </tr>\n",
       "    <tr>\n",
       "      <th>50%</th>\n",
       "      <td>37.000000</td>\n",
       "    </tr>\n",
       "    <tr>\n",
       "      <th>75%</th>\n",
       "      <td>46.000000</td>\n",
       "    </tr>\n",
       "    <tr>\n",
       "      <th>max</th>\n",
       "      <td>85.000000</td>\n",
       "    </tr>\n",
       "  </tbody>\n",
       "</table>\n",
       "</div>"
      ],
      "text/plain": [
       "              AGE\n",
       "count 4482.000000\n",
       "mean    39.096162\n",
       "std     11.807838\n",
       "min     18.000000\n",
       "25%     30.000000\n",
       "50%     37.000000\n",
       "75%     46.000000\n",
       "max     85.000000"
      ]
     },
     "execution_count": 14,
     "metadata": {},
     "output_type": "execute_result"
    }
   ],
   "source": [
    "df.describe()"
   ]
  },
  {
   "cell_type": "code",
   "execution_count": 15,
   "id": "1957176d",
   "metadata": {},
   "outputs": [
    {
     "data": {
      "text/plain": [
       "ID                    -0.002513\n",
       "AGE                    0.701627\n",
       "PINCODE               -0.064757\n",
       "INCOME_SEGMENT       -17.613270\n",
       "QUALITY_SCORE_BAND    -0.170237\n",
       "dtype: float64"
      ]
     },
     "execution_count": 15,
     "metadata": {},
     "output_type": "execute_result"
    }
   ],
   "source": [
    "df.skew()"
   ]
  },
  {
   "cell_type": "code",
   "execution_count": 16,
   "id": "73d192cd",
   "metadata": {},
   "outputs": [
    {
     "data": {
      "text/plain": [
       "ID                    -1.197348\n",
       "AGE                    0.131839\n",
       "PINCODE               -1.261724\n",
       "INCOME_SEGMENT       349.529099\n",
       "QUALITY_SCORE_BAND    -0.730098\n",
       "dtype: float64"
      ]
     },
     "execution_count": 16,
     "metadata": {},
     "output_type": "execute_result"
    }
   ],
   "source": [
    "df.kurtosis()"
   ]
  },
  {
   "cell_type": "code",
   "execution_count": 17,
   "id": "23e4a7b3",
   "metadata": {},
   "outputs": [
    {
     "data": {
      "text/plain": [
       "<AxesSubplot:xlabel='AGE', ylabel='Count'>"
      ]
     },
     "execution_count": 17,
     "metadata": {},
     "output_type": "execute_result"
    },
    {
     "data": {
      "image/png": "[encoded data removed]",
      "text/plain": [
       "<Figure size 1080x504 with 1 Axes>"
      ]
     },
     "metadata": {
      "needs_background": "light"
     },
     "output_type": "display_data"
    }
   ],
   "source": [
    "sns.histplot(df['AGE'])"
   ]
  },
  {
   "cell_type": "code",
   "execution_count": 18,
   "id": "ba645b38",
   "metadata": {},
   "outputs": [
    {
     "data": {
      "text/plain": [
       "<AxesSubplot:xlabel='PROD_CATEGORY', ylabel='AGE'>"
      ]
     },
     "execution_count": 18,
     "metadata": {},
     "output_type": "execute_result"
    },
    {
     "data": {
      "image/png": "[encoded data removed]",
      "text/plain": [
       "<Figure size 1080x504 with 1 Axes>"
      ]
     },
     "metadata": {
      "needs_background": "light"
     },
     "output_type": "display_data"
    }
   ],
   "source": [
    "sns.barplot(df['PROD_CATEGORY'],df['AGE'])"
   ]
  },
  {
   "cell_type": "code",
   "execution_count": 23,
   "id": "8bbfe8ac",
   "metadata": {},
   "outputs": [
    {
     "data": {
      "text/plain": [
       "term    7\n",
       "ulip    7\n",
       "trad    4\n",
       "Name: PROD_CATEGORY, dtype: int64"
      ]
     },
     "execution_count": 23,
     "metadata": {},
     "output_type": "execute_result"
    }
   ],
   "source": [
    "df[df['AGE'].isnull()]['PROD_CATEGORY'].value_counts()"
   ]
  },
  {
   "cell_type": "code",
   "execution_count": 25,
   "id": "c7c058b6",
   "metadata": {},
   "outputs": [
    {
     "data": {
      "text/html": [
       "<div>\n",
       "<style scoped>\n",
       "    .dataframe tbody tr th:only-of-type {\n",
       "        vertical-align: middle;\n",
       "    }\n",
       "\n",
       "    .dataframe tbody tr th {\n",
       "        vertical-align: top;\n",
       "    }\n",
       "\n",
       "    .dataframe thead th {\n",
       "        text-align: right;\n",
       "    }\n",
       "</style>\n",
       "<table border=\"1\" class=\"dataframe\">\n",
       "  <thead>\n",
       "    <tr style=\"text-align: right;\">\n",
       "      <th></th>\n",
       "      <th>ID</th>\n",
       "      <th>AGE</th>\n",
       "      <th>EDUCATION</th>\n",
       "      <th>OCC</th>\n",
       "      <th>PINCODE</th>\n",
       "      <th>PROD_CATEGORY</th>\n",
       "      <th>INCOME_SEGMENT</th>\n",
       "      <th>PROSPERITY_INDEX_BAND</th>\n",
       "      <th>QUALITY_SCORE_BAND</th>\n",
       "      <th>ISSUANCE_MONTH</th>\n",
       "    </tr>\n",
       "  </thead>\n",
       "  <tbody>\n",
       "    <tr>\n",
       "      <th>454</th>\n",
       "      <td>5180</td>\n",
       "      <td>NaN</td>\n",
       "      <td>missing</td>\n",
       "      <td>missing</td>\n",
       "      <td>110020.000000</td>\n",
       "      <td>term</td>\n",
       "      <td>9</td>\n",
       "      <td>High</td>\n",
       "      <td>2</td>\n",
       "      <td>Apr-21</td>\n",
       "    </tr>\n",
       "    <tr>\n",
       "      <th>648</th>\n",
       "      <td>7650</td>\n",
       "      <td>NaN</td>\n",
       "      <td>missing</td>\n",
       "      <td>missing</td>\n",
       "      <td>110017.000000</td>\n",
       "      <td>ulip</td>\n",
       "      <td>5</td>\n",
       "      <td>Very_high</td>\n",
       "      <td>2</td>\n",
       "      <td>Dec-21</td>\n",
       "    </tr>\n",
       "    <tr>\n",
       "      <th>1730</th>\n",
       "      <td>6449</td>\n",
       "      <td>NaN</td>\n",
       "      <td>missing</td>\n",
       "      <td>missing</td>\n",
       "      <td>282004.000000</td>\n",
       "      <td>trad</td>\n",
       "      <td>8</td>\n",
       "      <td>High</td>\n",
       "      <td>2</td>\n",
       "      <td>Aug-21</td>\n",
       "    </tr>\n",
       "    <tr>\n",
       "      <th>1840</th>\n",
       "      <td>7934</td>\n",
       "      <td>NaN</td>\n",
       "      <td>missing</td>\n",
       "      <td>missing</td>\n",
       "      <td>250001.000000</td>\n",
       "      <td>trad</td>\n",
       "      <td>5</td>\n",
       "      <td>High</td>\n",
       "      <td>2</td>\n",
       "      <td>Dec-21</td>\n",
       "    </tr>\n",
       "    <tr>\n",
       "      <th>2245</th>\n",
       "      <td>9070</td>\n",
       "      <td>NaN</td>\n",
       "      <td>missing</td>\n",
       "      <td>missing</td>\n",
       "      <td>362001.000000</td>\n",
       "      <td>trad</td>\n",
       "      <td>5</td>\n",
       "      <td>High</td>\n",
       "      <td>2</td>\n",
       "      <td>Feb-22</td>\n",
       "    </tr>\n",
       "    <tr>\n",
       "      <th>2492</th>\n",
       "      <td>8605</td>\n",
       "      <td>NaN</td>\n",
       "      <td>missing</td>\n",
       "      <td>missing</td>\n",
       "      <td>110054.000000</td>\n",
       "      <td>ulip</td>\n",
       "      <td>4</td>\n",
       "      <td>Very_high</td>\n",
       "      <td>2</td>\n",
       "      <td>Jan-22</td>\n",
       "    </tr>\n",
       "    <tr>\n",
       "      <th>2527</th>\n",
       "      <td>7404</td>\n",
       "      <td>NaN</td>\n",
       "      <td>missing</td>\n",
       "      <td>salaried_pvt</td>\n",
       "      <td>311001.000000</td>\n",
       "      <td>term</td>\n",
       "      <td>5</td>\n",
       "      <td>High</td>\n",
       "      <td>3</td>\n",
       "      <td>Nov-21</td>\n",
       "    </tr>\n",
       "    <tr>\n",
       "      <th>2605</th>\n",
       "      <td>5075</td>\n",
       "      <td>NaN</td>\n",
       "      <td>missing</td>\n",
       "      <td>missing</td>\n",
       "      <td>500033.000000</td>\n",
       "      <td>trad</td>\n",
       "      <td>6</td>\n",
       "      <td>Very_high</td>\n",
       "      <td>2</td>\n",
       "      <td>Apr-21</td>\n",
       "    </tr>\n",
       "    <tr>\n",
       "      <th>2639</th>\n",
       "      <td>5270</td>\n",
       "      <td>NaN</td>\n",
       "      <td>missing</td>\n",
       "      <td>salaried_pvt</td>\n",
       "      <td>370210.000000</td>\n",
       "      <td>term</td>\n",
       "      <td>7</td>\n",
       "      <td>High</td>\n",
       "      <td>3</td>\n",
       "      <td>May-21</td>\n",
       "    </tr>\n",
       "    <tr>\n",
       "      <th>2684</th>\n",
       "      <td>5499</td>\n",
       "      <td>NaN</td>\n",
       "      <td>missing</td>\n",
       "      <td>missing</td>\n",
       "      <td>711201.000000</td>\n",
       "      <td>ulip</td>\n",
       "      <td>5</td>\n",
       "      <td>Medium</td>\n",
       "      <td>2</td>\n",
       "      <td>Jun-21</td>\n",
       "    </tr>\n",
       "    <tr>\n",
       "      <th>2803</th>\n",
       "      <td>7230</td>\n",
       "      <td>NaN</td>\n",
       "      <td>missing</td>\n",
       "      <td>missing</td>\n",
       "      <td>441614.000000</td>\n",
       "      <td>ulip</td>\n",
       "      <td>5</td>\n",
       "      <td>Medium</td>\n",
       "      <td>2</td>\n",
       "      <td>Oct-21</td>\n",
       "    </tr>\n",
       "    <tr>\n",
       "      <th>2810</th>\n",
       "      <td>7481</td>\n",
       "      <td>NaN</td>\n",
       "      <td>missing</td>\n",
       "      <td>missing</td>\n",
       "      <td>395007.000000</td>\n",
       "      <td>term</td>\n",
       "      <td>8</td>\n",
       "      <td>Very_high</td>\n",
       "      <td>2</td>\n",
       "      <td>Nov-21</td>\n",
       "    </tr>\n",
       "    <tr>\n",
       "      <th>3018</th>\n",
       "      <td>5119</td>\n",
       "      <td>NaN</td>\n",
       "      <td>missing</td>\n",
       "      <td>salaried_pvt</td>\n",
       "      <td>201309.000000</td>\n",
       "      <td>term</td>\n",
       "      <td>6</td>\n",
       "      <td>High</td>\n",
       "      <td>3</td>\n",
       "      <td>Apr-21</td>\n",
       "    </tr>\n",
       "    <tr>\n",
       "      <th>3128</th>\n",
       "      <td>8114</td>\n",
       "      <td>NaN</td>\n",
       "      <td>missing</td>\n",
       "      <td>missing</td>\n",
       "      <td>413102.000000</td>\n",
       "      <td>ulip</td>\n",
       "      <td>7</td>\n",
       "      <td>Medium</td>\n",
       "      <td>2</td>\n",
       "      <td>Dec-21</td>\n",
       "    </tr>\n",
       "    <tr>\n",
       "      <th>3140</th>\n",
       "      <td>8876</td>\n",
       "      <td>NaN</td>\n",
       "      <td>missing</td>\n",
       "      <td>missing</td>\n",
       "      <td>400052.000000</td>\n",
       "      <td>term</td>\n",
       "      <td>10</td>\n",
       "      <td>Very_high</td>\n",
       "      <td>2</td>\n",
       "      <td>Feb-22</td>\n",
       "    </tr>\n",
       "    <tr>\n",
       "      <th>3760</th>\n",
       "      <td>7354</td>\n",
       "      <td>NaN</td>\n",
       "      <td>missing</td>\n",
       "      <td>missing</td>\n",
       "      <td>700087.000000</td>\n",
       "      <td>ulip</td>\n",
       "      <td>10</td>\n",
       "      <td>Very_high</td>\n",
       "      <td>2</td>\n",
       "      <td>Nov-21</td>\n",
       "    </tr>\n",
       "    <tr>\n",
       "      <th>3844</th>\n",
       "      <td>9915</td>\n",
       "      <td>NaN</td>\n",
       "      <td>missing</td>\n",
       "      <td>missing</td>\n",
       "      <td>462016.000000</td>\n",
       "      <td>ulip</td>\n",
       "      <td>8</td>\n",
       "      <td>Very_high</td>\n",
       "      <td>2</td>\n",
       "      <td>Mar-22</td>\n",
       "    </tr>\n",
       "    <tr>\n",
       "      <th>4404</th>\n",
       "      <td>8334</td>\n",
       "      <td>NaN</td>\n",
       "      <td>missing</td>\n",
       "      <td>missing</td>\n",
       "      <td>500055.000000</td>\n",
       "      <td>term</td>\n",
       "      <td>8</td>\n",
       "      <td>Very_high</td>\n",
       "      <td>2</td>\n",
       "      <td>Jan-22</td>\n",
       "    </tr>\n",
       "  </tbody>\n",
       "</table>\n",
       "</div>"
      ],
      "text/plain": [
       "        ID  AGE EDUCATION           OCC       PINCODE PROD_CATEGORY  \\\n",
       "454   5180  NaN   missing       missing 110020.000000          term   \n",
       "648   7650  NaN   missing       missing 110017.000000          ulip   \n",
       "1730  6449  NaN   missing       missing 282004.000000          trad   \n",
       "1840  7934  NaN   missing       missing 250001.000000          trad   \n",
       "2245  9070  NaN   missing       missing 362001.000000          trad   \n",
       "2492  8605  NaN   missing       missing 110054.000000          ulip   \n",
       "2527  7404  NaN   missing  salaried_pvt 311001.000000          term   \n",
       "2605  5075  NaN   missing       missing 500033.000000          trad   \n",
       "2639  5270  NaN   missing  salaried_pvt 370210.000000          term   \n",
       "2684  5499  NaN   missing       missing 711201.000000          ulip   \n",
       "2803  7230  NaN   missing       missing 441614.000000          ulip   \n",
       "2810  7481  NaN   missing       missing 395007.000000          term   \n",
       "3018  5119  NaN   missing  salaried_pvt 201309.000000          term   \n",
       "3128  8114  NaN   missing       missing 413102.000000          ulip   \n",
       "3140  8876  NaN   missing       missing 400052.000000          term   \n",
       "3760  7354  NaN   missing       missing 700087.000000          ulip   \n",
       "3844  9915  NaN   missing       missing 462016.000000          ulip   \n",
       "4404  8334  NaN   missing       missing 500055.000000          term   \n",
       "\n",
       "     INCOME_SEGMENT PROSPERITY_INDEX_BAND QUALITY_SCORE_BAND ISSUANCE_MONTH  \n",
       "454               9                  High                  2         Apr-21  \n",
       "648               5             Very_high                  2         Dec-21  \n",
       "1730              8                  High                  2         Aug-21  \n",
       "1840              5                  High                  2         Dec-21  \n",
       "2245              5                  High                  2         Feb-22  \n",
       "2492              4             Very_high                  2         Jan-22  \n",
       "2527              5                  High                  3         Nov-21  \n",
       "2605              6             Very_high                  2         Apr-21  \n",
       "2639              7                  High                  3         May-21  \n",
       "2684              5                Medium                  2         Jun-21  \n",
       "2803              5                Medium                  2         Oct-21  \n",
       "2810              8             Very_high                  2         Nov-21  \n",
       "3018              6                  High                  3         Apr-21  \n",
       "3128              7                Medium                  2         Dec-21  \n",
       "3140             10             Very_high                  2         Feb-22  \n",
       "3760             10             Very_high                  2         Nov-21  \n",
       "3844              8             Very_high                  2         Mar-22  \n",
       "4404              8             Very_high                  2         Jan-22  "
      ]
     },
     "execution_count": 25,
     "metadata": {},
     "output_type": "execute_result"
    }
   ],
   "source": [
    "df[df['AGE'].isnull()]"
   ]
  },
  {
   "cell_type": "code",
   "execution_count": 27,
   "id": "a541c3a7",
   "metadata": {},
   "outputs": [
    {
     "data": {
      "text/plain": [
       "{'term': 33.0, 'trad': 37.0, 'ulip': 41.0}"
      ]
     },
     "execution_count": 27,
     "metadata": {},
     "output_type": "execute_result"
    }
   ],
   "source": [
    "df.groupby('PROD_CATEGORY')['AGE'].median().to_dict()"
   ]
  },
  {
   "cell_type": "code",
   "execution_count": 33,
   "id": "d8f86bbe",
   "metadata": {},
   "outputs": [],
   "source": [
    "df.loc[(df['AGE'].isnull()) &( df['PROD_CATEGORY']=='term'),'AGE']=33.0\n"
   ]
  },
  {
   "cell_type": "code",
   "execution_count": 35,
   "id": "0241294a",
   "metadata": {},
   "outputs": [],
   "source": [
    "df.loc[(df['AGE'].isnull()) &( df['PROD_CATEGORY']=='trad'),'AGE']=37.0"
   ]
  },
  {
   "cell_type": "code",
   "execution_count": 36,
   "id": "28343c78",
   "metadata": {},
   "outputs": [],
   "source": [
    "df.loc[(df['AGE'].isnull()) &( df['PROD_CATEGORY']=='ulip'),'AGE']=41.0"
   ]
  },
  {
   "cell_type": "code",
   "execution_count": 37,
   "id": "512e1c9a",
   "metadata": {},
   "outputs": [
    {
     "name": "stdout",
     "output_type": "stream",
     "text": [
      "<class 'pandas.core.frame.DataFrame'>\n",
      "RangeIndex: 4500 entries, 0 to 4499\n",
      "Data columns (total 10 columns):\n",
      " #   Column                 Non-Null Count  Dtype  \n",
      "---  ------                 --------------  -----  \n",
      " 0   ID                     4500 non-null   object \n",
      " 1   AGE                    4500 non-null   float64\n",
      " 2   EDUCATION              4500 non-null   object \n",
      " 3   OCC                    4500 non-null   object \n",
      " 4   PINCODE                4498 non-null   object \n",
      " 5   PROD_CATEGORY          4500 non-null   object \n",
      " 6   INCOME_SEGMENT         4500 non-null   object \n",
      " 7   PROSPERITY_INDEX_BAND  4500 non-null   object \n",
      " 8   QUALITY_SCORE_BAND     4500 non-null   object \n",
      " 9   ISSUANCE_MONTH         4500 non-null   object \n",
      "dtypes: float64(1), object(9)\n",
      "memory usage: 351.7+ KB\n"
     ]
    }
   ],
   "source": [
    "df.info()"
   ]
  },
  {
   "cell_type": "code",
   "execution_count": 45,
   "id": "696d4392",
   "metadata": {},
   "outputs": [
    {
     "data": {
      "text/plain": [
       "<AxesSubplot:xlabel='AGE', ylabel='Count'>"
      ]
     },
     "execution_count": 45,
     "metadata": {},
     "output_type": "execute_result"
    },
    {
     "data": {
      "image/png": "[encoded data removed]",
      "text/plain": [
       "<Figure size 1080x504 with 1 Axes>"
      ]
     },
     "metadata": {
      "needs_background": "light"
     },
     "output_type": "display_data"
    }
   ],
   "source": [
    "sns.histplot(df['AGE'],kde=True)"
   ]
  },
  {
   "cell_type": "code",
   "execution_count": 44,
   "id": "9255805b",
   "metadata": {},
   "outputs": [
    {
     "data": {
      "text/plain": [
       "0.1434882330116487"
      ]
     },
     "execution_count": 44,
     "metadata": {},
     "output_type": "execute_result"
    }
   ],
   "source": [
    "df['AGE'].kurtosis()"
   ]
  },
  {
   "cell_type": "code",
   "execution_count": null,
   "id": "555aac17",
   "metadata": {},
   "outputs": [],
   "source": []
  }
 ],
 "metadata": {
  "kernelspec": {
   "display_name": "Python 3 (ipykernel)",
   "language": "python",
   "name": "python3"
  },
  "language_info": {
   "codemirror_mode": {
    "name": "ipython",
    "version": 3
   },
   "file_extension": ".py",
   "mimetype": "text/x-python",
   "name": "python",
   "nbconvert_exporter": "python",
   "pygments_lexer": "ipython3",
   "version": "3.9.7"
  }
 },
 "nbformat": 4,
 "nbformat_minor": 5
}
